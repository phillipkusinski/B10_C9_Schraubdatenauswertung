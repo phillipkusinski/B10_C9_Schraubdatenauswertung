{
 "cells": [
  {
   "cell_type": "code",
   "execution_count": 1,
   "id": "6f910db0-e8d6-49ef-916c-b576df56e010",
   "metadata": {},
   "outputs": [],
   "source": [
    "#imports\n",
    "import pandas as pd\n",
    "import os\n",
    "import matplotlib.pyplot as plt\n",
    "import numpy as np\n",
    "import seaborn as sns"
   ]
  },
  {
   "cell_type": "markdown",
   "id": "f7d831b6-2b61-4d11-be1c-c047082e24ba",
   "metadata": {},
   "source": [
    "# Combine csv data of all station into one big dataframe"
   ]
  },
  {
   "cell_type": "code",
   "execution_count": 2,
   "id": "0c899e54-3e9c-4e9a-87ab-4958b4addd89",
   "metadata": {},
   "outputs": [],
   "source": [
    "list_of_xlsx = [\"KW37/Vordertür/Rob_8_1/2025-09-08.xlsx\",\n",
    "            \"KW37/Vordertür/Rob_8_1/2025-09-09.xlsx\",\n",
    "            \"KW37/Vordertür/Rob_8_1/2025-09-10.xlsx\",\n",
    "            \"KW37/Vordertür/Rob_8_1/2025-09-11.xlsx\",\n",
    "            \"KW37/Vordertür/Rob_8_1/2025-09-12.xlsx\",\n",
    "            \"KW37/Vordertür/Rob_8_1/2025-09-13.xlsx\",\n",
    "            \"KW37/Vordertür/Rob_8_2/2025-09-08.xlsx\",\n",
    "            \"KW37/Vordertür/Rob_8_2/2025-09-09.xlsx\",\n",
    "            \"KW37/Vordertür/Rob_8_2/2025-09-10.xlsx\",\n",
    "            \"KW37/Vordertür/Rob_8_2/2025-09-11.xlsx\",\n",
    "            \"KW37/Vordertür/Rob_8_2/2025-09-12.xlsx\",\n",
    "            \"KW37/Vordertür/Rob_8_2/2025-09-13.xlsx\",\n",
    "            \"KW37/Vordertür/Rob_8_3/2025-09-08.xlsx\",\n",
    "            \"KW37/Vordertür/Rob_8_3/2025-09-09.xlsx\",\n",
    "            \"KW37/Vordertür/Rob_8_3/2025-09-10.xlsx\",\n",
    "            \"KW37/Vordertür/Rob_8_3/2025-09-11.xlsx\",\n",
    "            \"KW37/Vordertür/Rob_8_3/2025-09-12.xlsx\",\n",
    "            \"KW37/Vordertür/Rob_8_3/2025-09-13.xlsx\",\n",
    "            \"KW37/Vordertür/Rob_9_2/2025-09-08.xlsx\",\n",
    "            \"KW37/Vordertür/Rob_9_2/2025-09-09.xlsx\",\n",
    "            \"KW37/Vordertür/Rob_9_2/2025-09-10.xlsx\",\n",
    "            \"KW37/Vordertür/Rob_9_2/2025-09-11.xlsx\",\n",
    "            \"KW37/Vordertür/Rob_9_2/2025-09-12.xlsx\",\n",
    "            \"KW37/Vordertür/Rob_9_2/2025-09-13.xlsx\",\n",
    "            \"KW37/Vordertür/Rob_9_3/2025-09-08.xlsx\",\n",
    "            \"KW37/Vordertür/Rob_9_3/2025-09-09.xlsx\",\n",
    "            \"KW37/Vordertür/Rob_9_3/2025-09-10.xlsx\",\n",
    "            \"KW37/Vordertür/Rob_9_3/2025-09-11.xlsx\",\n",
    "            \"KW37/Vordertür/Rob_9_3/2025-09-12.xlsx\",\n",
    "            \"KW37/Vordertür/Rob_9_3/2025-09-13.xlsx\",    \n",
    "            ]\n"
   ]
  },
  {
   "cell_type": "code",
   "execution_count": 3,
   "id": "6958daf2-ea82-4323-b901-6bfff8c5a227",
   "metadata": {},
   "outputs": [],
   "source": [
    "list_of_df = []\n",
    "#read all xlsx and append to new df list\n",
    "for file in list_of_xlsx:\n",
    "    df = pd.read_excel(file, usecols = [0, 2, 3, 4, 14, 15, 16, 17, 18, 19], header = None, skiprows = 2)\n",
    "    rob_num = os.path.normpath(file).split(os.sep)[2]\n",
    "    df[\"Roboternummer\"] = rob_num\n",
    "    list_of_df.append(df)\n",
    "#concat all dfs with all stations\n",
    "df = pd.concat(list_of_df, ignore_index=True)\n",
    "header = [\"Datum\", \"Programmnummer\", \"Fehlernummer\", \"Gesamtlaufzeit\", \"Schritt 3\", \n",
    "            \"Drehmoment 3\", \"Drehwinkel 3\", \"Schritt NOK\", \"Drehmoment NOK\", \n",
    "            \"Drehwinkel NOK\", \"Roboternummer\"]\n",
    "df.columns = header"
   ]
  },
  {
   "cell_type": "code",
   "execution_count": 124,
   "id": "d98eb579-b2ec-4734-90e9-f59111c6f590",
   "metadata": {},
   "outputs": [
    {
     "name": "stdout",
     "output_type": "stream",
     "text": [
      "       Datum  Programmnummer  Fehlernummer  Gesamtlaufzeit  Schritt 3  \\\n",
      "0 2025-09-08             226             0            1229          2   \n",
      "1 2025-09-08             227             0             969          2   \n",
      "2 2025-09-08             191             0            1043          2   \n",
      "3 2025-09-08             190             0             937          2   \n",
      "4 2025-09-08             193             0            1054          2   \n",
      "\n",
      "   Drehmoment 3  Drehwinkel 3  Schritt NOK  Drehmoment NOK  Drehwinkel NOK  \\\n",
      "0          2.00           4.7            0             0.0             0.0   \n",
      "1          2.00           4.2            0             0.0             0.0   \n",
      "2          2.00          31.9            0             0.0             0.0   \n",
      "3          2.00          29.3            0             0.0             0.0   \n",
      "4          1.99           1.2            0             0.0             0.0   \n",
      "\n",
      "  Roboternummer  \n",
      "0       Rob_8_1  \n",
      "1       Rob_8_1  \n",
      "2       Rob_8_1  \n",
      "3       Rob_8_1  \n",
      "4       Rob_8_1  \n",
      "            Datum  Programmnummer  Fehlernummer  Gesamtlaufzeit  Schritt 3  \\\n",
      "249548 2025-09-13              63             0             975          2   \n",
      "249549 2025-09-13              64             0             996          2   \n",
      "249550 2025-09-13              65             0             894          2   \n",
      "249551 2025-09-13              66             0             841          2   \n",
      "249552 2025-09-13              67             0             996          2   \n",
      "\n",
      "        Drehmoment 3  Drehwinkel 3  Schritt NOK  Drehmoment NOK  \\\n",
      "249548          1.99           3.5            0             0.0   \n",
      "249549          1.49           4.9            0             0.0   \n",
      "249550          1.49          44.3            0             0.0   \n",
      "249551          2.03           1.3            0             0.0   \n",
      "249552          2.00           2.2            0             0.0   \n",
      "\n",
      "        Drehwinkel NOK Roboternummer  \n",
      "249548             0.0       Rob_9_3  \n",
      "249549             0.0       Rob_9_3  \n",
      "249550             0.0       Rob_9_3  \n",
      "249551             0.0       Rob_9_3  \n",
      "249552             0.0       Rob_9_3  \n"
     ]
    }
   ],
   "source": [
    "print(df.head())\n",
    "print(df.tail())"
   ]
  },
  {
   "cell_type": "markdown",
   "id": "34848b3f-fdd5-484b-856b-a92c3440a683",
   "metadata": {},
   "source": [
    "### Filter df for variant"
   ]
  },
  {
   "cell_type": "code",
   "execution_count": 4,
   "id": "2a948ef0-ab5e-4aec-a1e4-1c4a2be158a5",
   "metadata": {},
   "outputs": [],
   "source": [
    "variant = \"B10\"\n",
    "#variant = \"C9\"\n",
    "if variant == \"B10\":\n",
    "    df_filtered = df[df[\"Programmnummer\"] < 100]\n",
    "else:\n",
    "    df_filtered = df[df[\"Programmnummer\"] >= 100]"
   ]
  },
  {
   "cell_type": "markdown",
   "id": "34e02d39-b337-4d91-bf81-53ab23a33d83",
   "metadata": {},
   "source": [
    "### Failure Plot Weekly"
   ]
  },
  {
   "cell_type": "code",
   "execution_count": 181,
   "id": "464e1103-a631-447d-a3e9-c03a0823dd01",
   "metadata": {},
   "outputs": [
    {
     "name": "stderr",
     "output_type": "stream",
     "text": [
      "C:\\Temp\\ipykernel_25900\\2697588618.py:3: DeprecationWarning: DataFrameGroupBy.apply operated on the grouping columns. This behavior is deprecated, and in a future version of pandas the grouping columns will be excluded from the operation. Either pass `include_groups=False` to exclude the groupings or explicitly select the grouping columns after groupby to silence this warning.\n",
      "  .apply(lambda df_lambda: (df_lambda[\"Fehlernummer\"] != 0).sum() / len(df_lambda) * 100)\n",
      "C:\\Temp\\ipykernel_25900\\2697588618.py:13: DeprecationWarning: DataFrameGroupBy.apply operated on the grouping columns. This behavior is deprecated, and in a future version of pandas the grouping columns will be excluded from the operation. Either pass `include_groups=False` to exclude the groupings or explicitly select the grouping columns after groupby to silence this warning.\n",
      "  .apply(lambda x: (x[\"Fehlernummer\"] != 0).sum() / len(x) * 100)\n"
     ]
    },
    {
     "data": {
      "image/png": "[encoded data removed]",
      "text/plain": [
       "<Figure size 1200x600 with 1 Axes>"
      ]
     },
     "metadata": {},
     "output_type": "display_data"
    }
   ],
   "source": [
    "df_failure_plot = (\n",
    "    df_filtered.groupby([\"Datum\", \"Roboternummer\"], group_keys = False)\n",
    "    .apply(lambda df_lambda: (df_lambda[\"Fehlernummer\"] != 0).sum() / len(df_lambda) * 100)\n",
    "    .reset_index(name=\"Fehleranteil in %\")\n",
    ")\n",
    "\n",
    "df_failure_plot[\"Datum\"] = df_failure_plot[\"Datum\"].dt.date\n",
    "\n",
    "pivot_df = df_failure_plot.pivot(index=\"Datum\", columns=\"Roboternummer\", values=\"Fehleranteil in %\")\n",
    "\n",
    "weekly_failure = (\n",
    "    df_filtered.groupby(\"Roboternummer\")\n",
    "    .apply(lambda x: (x[\"Fehlernummer\"] != 0).sum() / len(x) * 100)\n",
    "    .round(2)\n",
    ")\n",
    "\n",
    "pivot_df.loc[\"Ø Woche\"] = weekly_failure\n",
    "\n",
    "\n",
    "ax = pivot_df.plot(kind=\"bar\", figsize=(12, 6))\n",
    "plt.axhline(0.2, color='red', linestyle='--', linewidth = 2)\n",
    "plt.ylabel(\"Fehleranteil in %\")\n",
    "plt.title(f\"Variante = {variant}, Kalenderwoche = , Absoluter Fehleranteil in % pro Roboter\")\n",
    "plt.xticks(rotation=0)\n",
    "plt.legend(title=\"Roboternummer\", framealpha = 1)\n",
    "\n",
    "sep_index = len(pivot_df) - 2\n",
    "plt.axvline(x=sep_index + 0.5, color=\"gray\", linestyle=\"--\", linewidth=1)\n",
    "\n",
    "plt.tight_layout()\n",
    "plt.show()"
   ]
  },
  {
   "cell_type": "markdown",
   "id": "8f1f4e95-929a-41d1-9652-63ca697c2d2a",
   "metadata": {},
   "source": [
    "# Create Excel Export"
   ]
  },
  {
   "cell_type": "markdown",
   "id": "b7f60eda-d61c-47ab-80a6-3e8b4f0c27b7",
   "metadata": {},
   "source": [
    "### Filtered for Date, Robnumber and Failurenumber"
   ]
  },
  {
   "cell_type": "code",
   "execution_count": 5,
   "id": "71e5ea79-1052-4881-a4a7-cd7a1af51506",
   "metadata": {},
   "outputs": [
    {
     "data": {
      "text/html": [
       "<div>\n",
       "<style scoped>\n",
       "    .dataframe tbody tr th:only-of-type {\n",
       "        vertical-align: middle;\n",
       "    }\n",
       "\n",
       "    .dataframe tbody tr th {\n",
       "        vertical-align: top;\n",
       "    }\n",
       "\n",
       "    .dataframe thead th {\n",
       "        text-align: right;\n",
       "    }\n",
       "</style>\n",
       "<table border=\"1\" class=\"dataframe\">\n",
       "  <thead>\n",
       "    <tr style=\"text-align: right;\">\n",
       "      <th></th>\n",
       "      <th>Fehlernummer</th>\n",
       "      <th>0</th>\n",
       "      <th>1</th>\n",
       "      <th>3</th>\n",
       "      <th>5</th>\n",
       "      <th>21</th>\n",
       "      <th>Gesamtverschraubungen</th>\n",
       "      <th>Fehler in %</th>\n",
       "    </tr>\n",
       "    <tr>\n",
       "      <th>Datum</th>\n",
       "      <th>Roboternummer</th>\n",
       "      <th></th>\n",
       "      <th></th>\n",
       "      <th></th>\n",
       "      <th></th>\n",
       "      <th></th>\n",
       "      <th></th>\n",
       "      <th></th>\n",
       "    </tr>\n",
       "  </thead>\n",
       "  <tbody>\n",
       "    <tr>\n",
       "      <th rowspan=\"5\" valign=\"top\">2025-09-08</th>\n",
       "      <th>Rob_8_1</th>\n",
       "      <td>5177</td>\n",
       "      <td>10</td>\n",
       "      <td>2</td>\n",
       "      <td>1</td>\n",
       "      <td>0</td>\n",
       "      <td>5190</td>\n",
       "      <td>0.25</td>\n",
       "    </tr>\n",
       "    <tr>\n",
       "      <th>Rob_8_2</th>\n",
       "      <td>4651</td>\n",
       "      <td>12</td>\n",
       "      <td>0</td>\n",
       "      <td>19</td>\n",
       "      <td>3</td>\n",
       "      <td>4685</td>\n",
       "      <td>0.73</td>\n",
       "    </tr>\n",
       "    <tr>\n",
       "      <th>Rob_8_3</th>\n",
       "      <td>4340</td>\n",
       "      <td>16</td>\n",
       "      <td>21</td>\n",
       "      <td>0</td>\n",
       "      <td>1</td>\n",
       "      <td>4378</td>\n",
       "      <td>0.87</td>\n",
       "    </tr>\n",
       "    <tr>\n",
       "      <th>Rob_9_2</th>\n",
       "      <td>2515</td>\n",
       "      <td>28</td>\n",
       "      <td>1</td>\n",
       "      <td>3</td>\n",
       "      <td>0</td>\n",
       "      <td>2547</td>\n",
       "      <td>1.26</td>\n",
       "    </tr>\n",
       "    <tr>\n",
       "      <th>Rob_9_3</th>\n",
       "      <td>5254</td>\n",
       "      <td>6</td>\n",
       "      <td>3</td>\n",
       "      <td>3</td>\n",
       "      <td>0</td>\n",
       "      <td>5266</td>\n",
       "      <td>0.23</td>\n",
       "    </tr>\n",
       "  </tbody>\n",
       "</table>\n",
       "</div>"
      ],
      "text/plain": [
       "Fehlernummer                 0   1   3   5  21  Gesamtverschraubungen  \\\n",
       "Datum      Roboternummer                                                \n",
       "2025-09-08 Rob_8_1        5177  10   2   1   0                   5190   \n",
       "           Rob_8_2        4651  12   0  19   3                   4685   \n",
       "           Rob_8_3        4340  16  21   0   1                   4378   \n",
       "           Rob_9_2        2515  28   1   3   0                   2547   \n",
       "           Rob_9_3        5254   6   3   3   0                   5266   \n",
       "\n",
       "Fehlernummer              Fehler in %  \n",
       "Datum      Roboternummer               \n",
       "2025-09-08 Rob_8_1               0.25  \n",
       "           Rob_8_2               0.73  \n",
       "           Rob_8_3               0.87  \n",
       "           Rob_9_2               1.26  \n",
       "           Rob_9_3               0.23  "
      ]
     },
     "execution_count": 5,
     "metadata": {},
     "output_type": "execute_result"
    }
   ],
   "source": [
    "df_grouped_detailed = df_filtered.groupby([df_filtered[\"Datum\"].dt.date, \"Roboternummer\", \"Fehlernummer\"]).size().unstack(fill_value=0)\n",
    "df_grouped_detailed[\"Gesamtverschraubungen\"] = df_grouped_detailed.sum(axis=1)\n",
    "fail_cols = [col for col in df_grouped_detailed.columns if col not in [0, \"Gesamtverschraubungen\"]]\n",
    "df_grouped_detailed[\"Fehler in %\"] = (df_grouped_detailed[fail_cols].sum(axis=1) / df_grouped_detailed[\"Gesamtverschraubungen\"] * 100).round(2)\n",
    "df_grouped_detailed.head()"
   ]
  },
  {
   "cell_type": "markdown",
   "id": "5819aa68-a55a-40d0-b663-e9a035792e5e",
   "metadata": {},
   "source": [
    "### Filtered for Week, Robnumber, Failurenumber "
   ]
  },
  {
   "cell_type": "code",
   "execution_count": 7,
   "id": "2b75e45d-0837-439c-99cb-831e79ead321",
   "metadata": {},
   "outputs": [
    {
     "data": {
      "text/html": [
       "<div>\n",
       "<style scoped>\n",
       "    .dataframe tbody tr th:only-of-type {\n",
       "        vertical-align: middle;\n",
       "    }\n",
       "\n",
       "    .dataframe tbody tr th {\n",
       "        vertical-align: top;\n",
       "    }\n",
       "\n",
       "    .dataframe thead th {\n",
       "        text-align: right;\n",
       "    }\n",
       "</style>\n",
       "<table border=\"1\" class=\"dataframe\">\n",
       "  <thead>\n",
       "    <tr style=\"text-align: right;\">\n",
       "      <th>Fehlernummer</th>\n",
       "      <th>0</th>\n",
       "      <th>1</th>\n",
       "      <th>3</th>\n",
       "      <th>5</th>\n",
       "      <th>21</th>\n",
       "      <th>Gesamtverschraubungen</th>\n",
       "      <th>Fehler in %</th>\n",
       "    </tr>\n",
       "    <tr>\n",
       "      <th>Roboternummer</th>\n",
       "      <th></th>\n",
       "      <th></th>\n",
       "      <th></th>\n",
       "      <th></th>\n",
       "      <th></th>\n",
       "      <th></th>\n",
       "      <th></th>\n",
       "    </tr>\n",
       "  </thead>\n",
       "  <tbody>\n",
       "    <tr>\n",
       "      <th>Rob_8_1</th>\n",
       "      <td>36531</td>\n",
       "      <td>60</td>\n",
       "      <td>20</td>\n",
       "      <td>2</td>\n",
       "      <td>0</td>\n",
       "      <td>36613</td>\n",
       "      <td>0.22</td>\n",
       "    </tr>\n",
       "    <tr>\n",
       "      <th>Rob_8_2</th>\n",
       "      <td>34519</td>\n",
       "      <td>176</td>\n",
       "      <td>3</td>\n",
       "      <td>23</td>\n",
       "      <td>3</td>\n",
       "      <td>34724</td>\n",
       "      <td>0.59</td>\n",
       "    </tr>\n",
       "    <tr>\n",
       "      <th>Rob_8_3</th>\n",
       "      <td>30804</td>\n",
       "      <td>67</td>\n",
       "      <td>116</td>\n",
       "      <td>10</td>\n",
       "      <td>5</td>\n",
       "      <td>31002</td>\n",
       "      <td>0.64</td>\n",
       "    </tr>\n",
       "    <tr>\n",
       "      <th>Rob_9_2</th>\n",
       "      <td>17762</td>\n",
       "      <td>231</td>\n",
       "      <td>3</td>\n",
       "      <td>22</td>\n",
       "      <td>0</td>\n",
       "      <td>18018</td>\n",
       "      <td>1.42</td>\n",
       "    </tr>\n",
       "    <tr>\n",
       "      <th>Rob_9_3</th>\n",
       "      <td>37141</td>\n",
       "      <td>31</td>\n",
       "      <td>6</td>\n",
       "      <td>16</td>\n",
       "      <td>0</td>\n",
       "      <td>37194</td>\n",
       "      <td>0.14</td>\n",
       "    </tr>\n",
       "  </tbody>\n",
       "</table>\n",
       "</div>"
      ],
      "text/plain": [
       "Fehlernummer       0    1    3   5  21  Gesamtverschraubungen  Fehler in %\n",
       "Roboternummer                                                             \n",
       "Rob_8_1        36531   60   20   2   0                  36613         0.22\n",
       "Rob_8_2        34519  176    3  23   3                  34724         0.59\n",
       "Rob_8_3        30804   67  116  10   5                  31002         0.64\n",
       "Rob_9_2        17762  231    3  22   0                  18018         1.42\n",
       "Rob_9_3        37141   31    6  16   0                  37194         0.14"
      ]
     },
     "execution_count": 7,
     "metadata": {},
     "output_type": "execute_result"
    }
   ],
   "source": [
    "df_grouped_detailed_weekly = df_filtered.groupby([\"Roboternummer\", \"Fehlernummer\"]).size().unstack(fill_value=0)\n",
    "df_grouped_detailed_weekly[\"Gesamtverschraubungen\"] = df_grouped_detailed_weekly.sum(axis=1)\n",
    "fail_cols = [col for col in df_grouped_detailed_weekly.columns if col not in [0, \"Gesamtverschraubungen\"]]\n",
    "df_grouped_detailed_weekly[\"Fehler in %\"] = (df_grouped_detailed_weekly[fail_cols].sum(axis=1) / df_grouped_detailed_weekly[\"Gesamtverschraubungen\"] * 100).round(2)\n",
    "df_grouped_detailed_weekly.head()"
   ]
  },
  {
   "cell_type": "code",
   "execution_count": 10,
   "id": "29130418-deaf-4ec0-9653-2856aae115b8",
   "metadata": {},
   "outputs": [],
   "source": [
    "all_df = []\n",
    "all_df.append(df_grouped_detailed)\n",
    "all_df.append(df_grouped_detailed_weekly)"
   ]
  },
  {
   "cell_type": "code",
   "execution_count": 16,
   "id": "8fb80b6a-26ae-40e5-b2cb-d4d9855e261c",
   "metadata": {},
   "outputs": [],
   "source": [
    "df_save = all_df[0]\n",
    "with pd.ExcelWriter(\"output.xlsx\") as writer:\n",
    "    df_grouped_detailed.to_excel(writer, sheet_name = \"IO vs NIO\")"
   ]
  }
 ],
 "metadata": {
  "kernelspec": {
   "display_name": "Python 3 (ipykernel)",
   "language": "python",
   "name": "python3"
  },
  "language_info": {
   "codemirror_mode": {
    "name": "ipython",
    "version": 3
   },
   "file_extension": ".py",
   "mimetype": "text/x-python",
   "name": "python",
   "nbconvert_exporter": "python",
   "pygments_lexer": "ipython3",
   "version": "3.12.9"
  }
 },
 "nbformat": 4,
 "nbformat_minor": 5
}
